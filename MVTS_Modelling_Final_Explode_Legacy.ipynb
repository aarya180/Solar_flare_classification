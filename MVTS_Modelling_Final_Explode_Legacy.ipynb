{
 "cells": [
  {
   "cell_type": "code",
   "execution_count": 1,
   "id": "498456c0",
   "metadata": {},
   "outputs": [],
   "source": [
    "from sktime.utils.data_io import load_from_tsfile_to_dataframe\n",
    "import glob\n",
    "import joblib\n",
    "import numpy as np\n",
    "import pandas as pd\n",
    "from sklearn import preprocessing\n",
    "import matplotlib.pyplot as plt\n",
    "import seaborn as sns\n",
    "import sktime \n",
    "from sktime.datatypes._panel._convert import from_3d_numpy_to_nested\n",
    "import numpy as np\n",
    "import pandas as pd\n",
    "from sklearn.model_selection import train_test_split\n",
    "from sklearn.pipeline import Pipeline\n",
    "from sktime.classification.distance_based import KNeighborsTimeSeriesClassifier\n",
    "from sktime.classification.compose import ColumnEnsembleClassifier\n",
    "from sktime.classification.dictionary_based import BOSSEnsemble\n",
    "from sktime.classification.interval_based import TimeSeriesForestClassifier\n",
    "from sktime.classification.shapelet_based import MrSEQLClassifier\n",
    "from sktime.datasets import load_basic_motions\n",
    "from sktime.transformations.panel.compose import ColumnConcatenator\n",
    "from imblearn.under_sampling import RandomUnderSampler\n",
    "from sktime.classification.interval_based import RandomIntervalSpectralForest\n",
    "from sklearn.metrics import classification_report\n",
    "from sklearn.metrics import confusion_matrix"
   ]
  },
  {
   "cell_type": "code",
   "execution_count": 2,
   "id": "c166ba96",
   "metadata": {},
   "outputs": [],
   "source": [
    "## Loading the data from .ts files\n",
    "features=['USFLUX', 'TOTUSJH', 'ABSNJZH', 'SAVNCPP', 'TOTBSQ', 'TOTPOT', 'TOTUSJZ']\n",
    "X_features,Y_target=load_from_tsfile_to_dataframe(\"MVTS_Data_Updated/MVTS_flares_data_updated/MVTS_flares_data_updated.ts\",\n",
    "                                           return_separate_X_and_y=True,)\n",
    "X_features.columns=features"
   ]
  },
  {
   "cell_type": "code",
   "execution_count": 3,
   "id": "9e9d89c7",
   "metadata": {},
   "outputs": [],
   "source": [
    "## Splitting data into train test and validation\n",
    "X_train=X_features.iloc[0:9289]\n",
    "y_train=Y_target[0:9289]\n",
    "X_test=X_features.iloc[9289:19667]\n",
    "y_test=Y_target[9289:19667]\n",
    "X_validation=X_features.iloc[19667:30216]\n",
    "y_validation=Y_target[19667:30216]"
   ]
  },
  {
   "cell_type": "code",
   "execution_count": 4,
   "id": "7451e58d",
   "metadata": {},
   "outputs": [],
   "source": [
    "##  Random Undersampling of the data instances\n",
    "undersample = RandomUnderSampler(sampling_strategy=0.25)\n",
    "X_train_under, y_train_under = undersample.fit_resample(X_train, y_train,)"
   ]
  },
  {
   "cell_type": "markdown",
   "id": "5813d728",
   "metadata": {},
   "source": [
    "# Column Ensemble Method For Random UnderSample Data"
   ]
  },
  {
   "cell_type": "code",
   "execution_count": 5,
   "id": "ac581e20",
   "metadata": {},
   "outputs": [
    {
     "data": {
      "text/plain": [
       "0.9226247831952207"
      ]
     },
     "execution_count": 5,
     "metadata": {},
     "output_type": "execute_result"
    }
   ],
   "source": [
    "clf = ColumnEnsembleClassifier(\n",
    "    estimators=[\n",
    "        (\"TSF0_0\", TimeSeriesForestClassifier(n_estimators=200), [\"USFLUX\"]),\n",
    "         (\"TSF0_1\", TimeSeriesForestClassifier(n_estimators=200), [\"TOTUSJH\"]),\n",
    "         (\"TSF0_2\", TimeSeriesForestClassifier(n_estimators=200), [\"ABSNJZH\"]),\n",
    "         (\"TSF0_3\", TimeSeriesForestClassifier(n_estimators=200), [\"SAVNCPP\"]),\n",
    "         (\"TSF0_4\", TimeSeriesForestClassifier(n_estimators=200), [\"TOTBSQ\"]),\n",
    "         (\"TSFO_5\", TimeSeriesForestClassifier(n_estimators=200), [\"TOTPOT\"]),\n",
    "         (\"TSF0_6\", TimeSeriesForestClassifier(n_estimators=200), [\"TOTUSJZ\"])\n",
    "     ]\n",
    ")\n",
    "clf.fit(X_train_under, y_train_under)\n",
    "clf.score(X_test, y_test)"
   ]
  },
  {
   "cell_type": "markdown",
   "id": "8fcb0b3c",
   "metadata": {},
   "source": [
    "# Column Concatenator Method using Time Series Forest"
   ]
  },
  {
   "cell_type": "code",
   "execution_count": null,
   "id": "9ecddc4f",
   "metadata": {},
   "outputs": [],
   "source": [
    "steps = [\n",
    "    (\"concatenate\", ColumnConcatenator()),\n",
    "    (\"classify\", TimeSeriesForestClassifier(n_estimators=250)),\n",
    "]\n",
    "clf_cat = Pipeline(steps)\n",
    "clf_cat.fit(X_train, y_train)\n",
    "clf_cat.score(X_test, y_test)\n",
    "\n"
   ]
  },
  {
   "cell_type": "markdown",
   "id": "bc600eb0",
   "metadata": {},
   "source": [
    "# Model Evaluation "
   ]
  },
  {
   "cell_type": "markdown",
   "id": "98b6cfa4",
   "metadata": {},
   "source": [
    "Note: We can change the classifier in the code below to get performace Measure. Right now it is selected for Column Ensemble Method"
   ]
  },
  {
   "cell_type": "code",
   "execution_count": 6,
   "id": "8fbc24b3",
   "metadata": {},
   "outputs": [],
   "source": [
    "## Prediction by the model\n",
    "y_pred=clf.predict(X_test)"
   ]
  },
  {
   "cell_type": "code",
   "execution_count": 7,
   "id": "24c3b1cf",
   "metadata": {},
   "outputs": [
    {
     "data": {
      "text/html": [
       "<div>\n",
       "<style scoped>\n",
       "    .dataframe tbody tr th:only-of-type {\n",
       "        vertical-align: middle;\n",
       "    }\n",
       "\n",
       "    .dataframe tbody tr th {\n",
       "        vertical-align: top;\n",
       "    }\n",
       "\n",
       "    .dataframe thead th {\n",
       "        text-align: right;\n",
       "    }\n",
       "</style>\n",
       "<table border=\"1\" class=\"dataframe\">\n",
       "  <thead>\n",
       "    <tr style=\"text-align: right;\">\n",
       "      <th></th>\n",
       "      <th>0</th>\n",
       "      <th>1</th>\n",
       "    </tr>\n",
       "  </thead>\n",
       "  <tbody>\n",
       "    <tr>\n",
       "      <th>0</th>\n",
       "      <td>8622</td>\n",
       "      <td>355</td>\n",
       "    </tr>\n",
       "    <tr>\n",
       "      <th>1</th>\n",
       "      <td>448</td>\n",
       "      <td>953</td>\n",
       "    </tr>\n",
       "  </tbody>\n",
       "</table>\n",
       "</div>"
      ],
      "text/plain": [
       "      0    1\n",
       "0  8622  355\n",
       "1   448  953"
      ]
     },
     "execution_count": 7,
     "metadata": {},
     "output_type": "execute_result"
    }
   ],
   "source": [
    "# Confusion Matrix\n",
    "cm=confusion_matrix(y_test, y_pred)\n",
    "df_cm=pd.DataFrame(cm)\n",
    "df_cm"
   ]
  },
  {
   "cell_type": "code",
   "execution_count": 8,
   "id": "c75f62ee",
   "metadata": {},
   "outputs": [],
   "source": [
    "## Getting TP, TN, FP, FN from CM\n",
    "TN=df_cm.iloc[0,0]\n",
    "FP=df_cm.iloc[0,1]\n",
    "FN=df_cm.iloc[1,0]\n",
    "TP=df_cm.iloc[1,1]\n"
   ]
  },
  {
   "cell_type": "code",
   "execution_count": 9,
   "id": "9894e55a",
   "metadata": {},
   "outputs": [],
   "source": [
    "## Function to calculate matrix\n",
    "def accuracy_measure(TN,FP,FN,TP):\n",
    "    P = TP + FN\n",
    "    N = FP + TN\n",
    "    amdf = pd.DataFrame()\n",
    "    amdf['TP'] = [TP]\n",
    "    amdf['FP'] = FP\n",
    "    amdf['TN'] = TN\n",
    "    amdf['FN'] = FN\n",
    "    amdf['P'] = P\n",
    "    amdf['N'] = N\n",
    "    return(amdf)"
   ]
  },
  {
   "cell_type": "code",
   "execution_count": 10,
   "id": "bbd811d7",
   "metadata": {},
   "outputs": [
    {
     "data": {
      "text/html": [
       "<div>\n",
       "<style scoped>\n",
       "    .dataframe tbody tr th:only-of-type {\n",
       "        vertical-align: middle;\n",
       "    }\n",
       "\n",
       "    .dataframe tbody tr th {\n",
       "        vertical-align: top;\n",
       "    }\n",
       "\n",
       "    .dataframe thead th {\n",
       "        text-align: right;\n",
       "    }\n",
       "</style>\n",
       "<table border=\"1\" class=\"dataframe\">\n",
       "  <thead>\n",
       "    <tr style=\"text-align: right;\">\n",
       "      <th></th>\n",
       "      <th>TP</th>\n",
       "      <th>FP</th>\n",
       "      <th>TN</th>\n",
       "      <th>FN</th>\n",
       "      <th>P</th>\n",
       "      <th>N</th>\n",
       "    </tr>\n",
       "  </thead>\n",
       "  <tbody>\n",
       "    <tr>\n",
       "      <th>0</th>\n",
       "      <td>953</td>\n",
       "      <td>355</td>\n",
       "      <td>8622</td>\n",
       "      <td>448</td>\n",
       "      <td>1401</td>\n",
       "      <td>8977</td>\n",
       "    </tr>\n",
       "  </tbody>\n",
       "</table>\n",
       "</div>"
      ],
      "text/plain": [
       "    TP   FP    TN   FN     P     N\n",
       "0  953  355  8622  448  1401  8977"
      ]
     },
     "execution_count": 10,
     "metadata": {},
     "output_type": "execute_result"
    }
   ],
   "source": [
    "accuracy_measure(TN,FP,FN,TP)"
   ]
  },
  {
   "cell_type": "code",
   "execution_count": 11,
   "id": "ec7bb297",
   "metadata": {},
   "outputs": [],
   "source": [
    "## Functions to calculate HSS, TSS, GSS, FAR\n",
    "def evaluate(amdf):\n",
    "    tss = (amdf.TP / (amdf.TP + amdf.FN)) - (amdf.FP / (amdf.FP + amdf.TN))\n",
    "    hss = (2 * ((amdf.TP * amdf.TN) - (amdf.FN * amdf.FP)) / (amdf.P * (amdf.FN + amdf.TN)\n",
    "                                                              + amdf.N * (amdf.TP + amdf.FP)))\n",
    "    precXM = amdf.TP / (amdf.TP + amdf.FP)\n",
    "    recallXM = amdf.TP / (amdf.TP + amdf.FN)\n",
    "    precCBN = amdf.TN / (amdf.TN + amdf.FN)\n",
    "    recallCBN = amdf.TN / (amdf.TN + amdf.FP)\n",
    "    far = amdf.FP / (amdf.FP + amdf.TP)\n",
    "    ch = (amdf.TP + amdf.FP) * (amdf.TP + amdf.FN) / (amdf.TP + amdf.FP + amdf.FN + amdf.TN)\n",
    "    gss = (amdf.TP - ch) / (amdf.TP + amdf.FP + amdf.FN - ch)\n",
    "    eval_metrics = pd.DataFrame()\n",
    "    eval_metrics['TSS'] = [tss.iloc[0]]\n",
    "    eval_metrics['HSS'] = hss.iloc[0]\n",
    "    eval_metrics['GSS'] = gss.iloc[0]\n",
    "    eval_metrics['Precision(Class 1)'] = precXM.iloc[0]\n",
    "    eval_metrics['Recall(Class 1)'] = recallXM.iloc[0]\n",
    "    eval_metrics['Precision(Class 0)'] = precCBN.iloc[0]\n",
    "    eval_metrics['Recall( Class 0)'] = recallCBN.iloc[0]\n",
    "    eval_metrics['FAR'] = far.iloc[0]\n",
    "    return(eval_metrics)"
   ]
  },
  {
   "cell_type": "code",
   "execution_count": 12,
   "id": "8c5a365c",
   "metadata": {},
   "outputs": [
    {
     "data": {
      "text/html": [
       "<div>\n",
       "<style scoped>\n",
       "    .dataframe tbody tr th:only-of-type {\n",
       "        vertical-align: middle;\n",
       "    }\n",
       "\n",
       "    .dataframe tbody tr th {\n",
       "        vertical-align: top;\n",
       "    }\n",
       "\n",
       "    .dataframe thead th {\n",
       "        text-align: right;\n",
       "    }\n",
       "</style>\n",
       "<table border=\"1\" class=\"dataframe\">\n",
       "  <thead>\n",
       "    <tr style=\"text-align: right;\">\n",
       "      <th></th>\n",
       "      <th>TSS</th>\n",
       "      <th>HSS</th>\n",
       "      <th>GSS</th>\n",
       "      <th>Precision(Class 1)</th>\n",
       "      <th>Recall(Class 1)</th>\n",
       "      <th>Precision(Class 0)</th>\n",
       "      <th>Recall( Class 0)</th>\n",
       "      <th>FAR</th>\n",
       "    </tr>\n",
       "  </thead>\n",
       "  <tbody>\n",
       "    <tr>\n",
       "      <th>0</th>\n",
       "      <td>0.640683</td>\n",
       "      <td>0.659146</td>\n",
       "      <td>0.491587</td>\n",
       "      <td>0.728593</td>\n",
       "      <td>0.680228</td>\n",
       "      <td>0.950606</td>\n",
       "      <td>0.960454</td>\n",
       "      <td>0.271407</td>\n",
       "    </tr>\n",
       "  </tbody>\n",
       "</table>\n",
       "</div>"
      ],
      "text/plain": [
       "        TSS       HSS       GSS  Precision(Class 1)  Recall(Class 1)  \\\n",
       "0  0.640683  0.659146  0.491587            0.728593         0.680228   \n",
       "\n",
       "   Precision(Class 0)  Recall( Class 0)       FAR  \n",
       "0            0.950606          0.960454  0.271407  "
      ]
     },
     "execution_count": 12,
     "metadata": {},
     "output_type": "execute_result"
    }
   ],
   "source": [
    "amdf=accuracy_measure(TN,FP,FN,TP)\n",
    "Test_evaluation_report=evaluate(amdf)\n",
    "Test_evaluation_report"
   ]
  },
  {
   "cell_type": "code",
   "execution_count": 13,
   "id": "01e7fa66",
   "metadata": {},
   "outputs": [],
   "source": [
    "## Doing the same thing for Validation set\n",
    "y_pred_val=clf.predict(X_validation)"
   ]
  },
  {
   "cell_type": "code",
   "execution_count": 14,
   "id": "7206c7b8",
   "metadata": {},
   "outputs": [],
   "source": [
    "cm_val=confusion_matrix(y_validation, y_pred_val)"
   ]
  },
  {
   "cell_type": "code",
   "execution_count": 15,
   "id": "6acaf244",
   "metadata": {},
   "outputs": [
    {
     "data": {
      "text/html": [
       "<div>\n",
       "<style scoped>\n",
       "    .dataframe tbody tr th:only-of-type {\n",
       "        vertical-align: middle;\n",
       "    }\n",
       "\n",
       "    .dataframe tbody tr th {\n",
       "        vertical-align: top;\n",
       "    }\n",
       "\n",
       "    .dataframe thead th {\n",
       "        text-align: right;\n",
       "    }\n",
       "</style>\n",
       "<table border=\"1\" class=\"dataframe\">\n",
       "  <thead>\n",
       "    <tr style=\"text-align: right;\">\n",
       "      <th></th>\n",
       "      <th>0</th>\n",
       "      <th>1</th>\n",
       "    </tr>\n",
       "  </thead>\n",
       "  <tbody>\n",
       "    <tr>\n",
       "      <th>0</th>\n",
       "      <td>8402</td>\n",
       "      <td>723</td>\n",
       "    </tr>\n",
       "    <tr>\n",
       "      <th>1</th>\n",
       "      <td>361</td>\n",
       "      <td>1063</td>\n",
       "    </tr>\n",
       "  </tbody>\n",
       "</table>\n",
       "</div>"
      ],
      "text/plain": [
       "      0     1\n",
       "0  8402   723\n",
       "1   361  1063"
      ]
     },
     "execution_count": 15,
     "metadata": {},
     "output_type": "execute_result"
    }
   ],
   "source": [
    "df_cm_val=pd.DataFrame(cm_val)\n",
    "df_cm_val"
   ]
  },
  {
   "cell_type": "code",
   "execution_count": 16,
   "id": "03122b94",
   "metadata": {},
   "outputs": [],
   "source": [
    "TN_val=df_cm_val.iloc[0,0]\n",
    "FP_val=df_cm_val.iloc[0,1]\n",
    "FN_val=df_cm_val.iloc[1,0]\n",
    "TP_val=df_cm_val.iloc[1,1]\n"
   ]
  },
  {
   "cell_type": "code",
   "execution_count": 17,
   "id": "56449607",
   "metadata": {},
   "outputs": [
    {
     "data": {
      "text/html": [
       "<div>\n",
       "<style scoped>\n",
       "    .dataframe tbody tr th:only-of-type {\n",
       "        vertical-align: middle;\n",
       "    }\n",
       "\n",
       "    .dataframe tbody tr th {\n",
       "        vertical-align: top;\n",
       "    }\n",
       "\n",
       "    .dataframe thead th {\n",
       "        text-align: right;\n",
       "    }\n",
       "</style>\n",
       "<table border=\"1\" class=\"dataframe\">\n",
       "  <thead>\n",
       "    <tr style=\"text-align: right;\">\n",
       "      <th></th>\n",
       "      <th>TSS</th>\n",
       "      <th>HSS</th>\n",
       "      <th>GSS</th>\n",
       "      <th>Precision(Class 1)</th>\n",
       "      <th>Recall(Class 1)</th>\n",
       "      <th>Precision(Class 0)</th>\n",
       "      <th>Recall( Class 0)</th>\n",
       "      <th>FAR</th>\n",
       "    </tr>\n",
       "  </thead>\n",
       "  <tbody>\n",
       "    <tr>\n",
       "      <th>0</th>\n",
       "      <td>0.667256</td>\n",
       "      <td>0.602613</td>\n",
       "      <td>0.431243</td>\n",
       "      <td>0.595185</td>\n",
       "      <td>0.746489</td>\n",
       "      <td>0.958804</td>\n",
       "      <td>0.920767</td>\n",
       "      <td>0.404815</td>\n",
       "    </tr>\n",
       "  </tbody>\n",
       "</table>\n",
       "</div>"
      ],
      "text/plain": [
       "        TSS       HSS       GSS  Precision(Class 1)  Recall(Class 1)  \\\n",
       "0  0.667256  0.602613  0.431243            0.595185         0.746489   \n",
       "\n",
       "   Precision(Class 0)  Recall( Class 0)       FAR  \n",
       "0            0.958804          0.920767  0.404815  "
      ]
     },
     "execution_count": 17,
     "metadata": {},
     "output_type": "execute_result"
    }
   ],
   "source": [
    "amdf_valid=accuracy_measure(TN_val,FP_val,FN_val,TP_val)\n",
    "Valid_evaluation_report=evaluate(amdf_valid)\n",
    "Valid_evaluation_report"
   ]
  },
  {
   "cell_type": "code",
   "execution_count": null,
   "id": "e4e38ee4",
   "metadata": {},
   "outputs": [],
   "source": []
  }
 ],
 "metadata": {
  "kernelspec": {
   "display_name": "Python 3",
   "language": "python",
   "name": "python3"
  },
  "language_info": {
   "codemirror_mode": {
    "name": "ipython",
    "version": 3
   },
   "file_extension": ".py",
   "mimetype": "text/x-python",
   "name": "python",
   "nbconvert_exporter": "python",
   "pygments_lexer": "ipython3",
   "version": "3.8.8"
  }
 },
 "nbformat": 4,
 "nbformat_minor": 5
}
